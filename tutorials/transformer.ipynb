{
 "cells": [
  {
   "cell_type": "code",
   "execution_count": null,
   "metadata": {
    "collapsed": true
   },
   "outputs": [],
   "source": [
    "# transformers are used to perform some manipulation of the data and make it suitable for training\n",
    "\n",
    "# we use parameter-transform to modify the features\n",
    "\n",
    "# we use parameter-target-transform to modify the labels\n"
   ]
  },
  {
   "cell_type": "code",
   "execution_count": 5,
   "outputs": [
    {
     "data": {
      "text/plain": "<function __main__.<lambda>(y)>"
     },
     "execution_count": 5,
     "metadata": {},
     "output_type": "execute_result"
    }
   ],
   "source": [
    "import torch\n",
    "\n"
   ],
   "metadata": {
    "collapsed": false
   }
  },
  {
   "cell_type": "code",
   "execution_count": 6,
   "outputs": [],
   "source": [
    "import torch\n",
    "from  torchvision import datasets\n",
    "from torchvision.transforms import ToTensor, Lambda\n",
    "\n",
    "ds = datasets.FashionMNIST(\n",
    "    root= \"data\",\n",
    "    train= True,\n",
    "    download=True,\n",
    "    transform=ToTensor,\n",
    "    target_transform= Lambda( lambda y : torch.zeros(10, dtype = torch.float).scatter_(0, torch.tensor(y), value=1))\n",
    "\n",
    "    # for y = 3\n",
    "    # [0.,0.,0.,1.,0.,0.,0.,0.,0.,0.]\n",
    ")\n",
    "\n"
   ],
   "metadata": {
    "collapsed": false
   }
  },
  {
   "cell_type": "code",
   "execution_count": null,
   "outputs": [],
   "source": [
    "# ToTensor converts a PIL image or Numpy into a FloatTensor... And scales the image's pixel intensity values in the range[0.,1.]\n",
    "\n",
    "\n",
    "\n",
    "# Lambda, user-defined function...\n",
    "\n"
   ],
   "metadata": {
    "collapsed": false
   }
  }
 ],
 "metadata": {
  "kernelspec": {
   "display_name": "Python 3",
   "language": "python",
   "name": "python3"
  },
  "language_info": {
   "codemirror_mode": {
    "name": "ipython",
    "version": 2
   },
   "file_extension": ".py",
   "mimetype": "text/x-python",
   "name": "python",
   "nbconvert_exporter": "python",
   "pygments_lexer": "ipython2",
   "version": "2.7.6"
  }
 },
 "nbformat": 4,
 "nbformat_minor": 0
}
