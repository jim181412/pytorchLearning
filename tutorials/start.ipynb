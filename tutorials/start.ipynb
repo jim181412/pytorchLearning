{
 "cells": [
  {
   "cell_type": "code",
   "execution_count": 9,
   "metadata": {
    "collapsed": true
   },
   "outputs": [],
   "source": [
    "import torch\n",
    "from torch import nn\n",
    "from torch.utils.data import DataLoader\n",
    "from torchvision import datasets\n",
    "from torchvision.transforms import ToTensor\n",
    "\n"
   ]
  },
  {
   "cell_type": "code",
   "execution_count": 10,
   "outputs": [],
   "source": [
    "training_data = datasets.FashionMNIST(\n",
    "            root=\"data\",\n",
    "            train=True,\n",
    "            download=True,\n",
    "            transform=ToTensor(),\n",
    "        )\n",
    "\n",
    "test_data = datasets.FashionMNIST(\n",
    "    root=\"data\",\n",
    "    train=False,\n",
    "    download=True,\n",
    "    transform=ToTensor(),\n",
    ")"
   ],
   "metadata": {
    "collapsed": false
   }
  },
  {
   "cell_type": "code",
   "execution_count": 11,
   "outputs": [
    {
     "name": "stdout",
     "output_type": "stream",
     "text": [
      "Shape of X [batch size, channels, height in pixels, width in pixels]: torch.Size([64, 1, 28, 28])\n",
      "Shape of y: torch.Size([64]), torch.int64\n",
      "Shape of X [batch size, channels, height in pixels, width in pixels]: torch.Size([64, 1, 28, 28])\n",
      "Shape of y: torch.Size([64]), torch.int64\n"
     ]
    }
   ],
   "source": [
    "batch_size = 64\n",
    "# create data loader\n",
    "\n",
    "\n",
    "train_dataloader = DataLoader(training_data, batch_size)\n",
    "test_dataloader = DataLoader(test_data, batch_size)\n",
    "\n",
    "for X, y in train_dataloader:\n",
    "    print(f\"Shape of X [batch size, channels, height in pixels, width in pixels]: {X.shape}\")\n",
    "    print(f\"Shape of y: {y.shape}, {y.dtype}\")\n",
    "    break\n",
    "\n",
    "for X, y in test_dataloader:\n",
    "    print(f\"Shape of X [batch size, channels, height in pixels, width in pixels]: {X.shape}\")\n",
    "    print(f\"Shape of y: {y.shape}, {y.dtype}\")\n",
    "    break\n"
   ],
   "metadata": {
    "collapsed": false
   }
  },
  {
   "cell_type": "code",
   "execution_count": 12,
   "outputs": [
    {
     "name": "stdout",
     "output_type": "stream",
     "text": [
      "current using device cpu\n",
      "NeuralNetwork(\n",
      "  (flatten): Flatten(start_dim=1, end_dim=-1)\n",
      "  (linear_relu_stack): Sequential(\n",
      "    (0): Linear(in_features=784, out_features=512, bias=True)\n",
      "    (1): ReLU()\n",
      "    (2): Linear(in_features=512, out_features=512, bias=True)\n",
      "    (3): ReLU()\n",
      "    (4): Linear(in_features=512, out_features=10, bias=True)\n",
      "  )\n",
      ")\n"
     ]
    }
   ],
   "source": [
    "# get cpu or gpu device for training.\n",
    "device = \"cuda\" if torch.cuda.is_available() else \"mps\" if torch.backends.mps.is_available() else \"cpu\"\n",
    "print(f\"current using device {device}\")\n",
    "\n",
    "# define model\n",
    "class NeuralNetwork(nn.Module):\n",
    "    def __init__(self):\n",
    "        super().__init__()\n",
    "\n",
    "        # flatten is used to convert [batch_size, channel, height, width] to [batch_size, channel * height * width]\n",
    "        self.flatten = nn.Flatten()\n",
    "\n",
    "        \"\"\"n PyTorch, nn.Sequential is a container module that allows you to stack layers in a sequential\n",
    "        manner. It takes in a sequence of layers as input and applies them in order to\n",
    "        the input data when called.\"\"\"\n",
    "        self.linear_relu_stack = nn.Sequential(\n",
    "            nn.Linear(in_features= 28 * 28, out_features= 512),\n",
    "            nn.ReLU(),\n",
    "            nn.Linear(in_features=512, out_features=512),\n",
    "            nn.ReLU(),\n",
    "            nn.Linear(512, 10),\n",
    "        )\n",
    "\n",
    "    def forward(self, x):\n",
    "        x = self.flatten(x)\n",
    "        logits = self.linear_relu_stack(x)\n",
    "        return logits\n",
    "model = NeuralNetwork().to(device)\n",
    "print(model)\n"
   ],
   "metadata": {
    "collapsed": false
   }
  },
  {
   "cell_type": "code",
   "execution_count": 13,
   "outputs": [],
   "source": [
    "# define loss function\n",
    "loss_fn = nn.CrossEntropyLoss()\n",
    "# define 优化器\n",
    "optimizer = torch.optim.SGD(model.parameters() , lr = 1e-3)"
   ],
   "metadata": {
    "collapsed": false
   }
  },
  {
   "cell_type": "code",
   "execution_count": 14,
   "outputs": [],
   "source": [
    "# so now we define the traning function\n",
    "def train(dataloader, model, loss_fn, optimizer):\n",
    "    size = len(dataloader.dataset)\n",
    "    model.train() # turn the training model on\n",
    "    for batch, (X,y) in enumerate(dataloader):\n",
    "        X = X.to(device)\n",
    "        y = y.to(device)\n",
    "\n",
    "        pred = model(X)\n",
    "        loss = loss_fn(pred, y)\n",
    "\n",
    "        # backpropagation\n",
    "        optimizer.zero_grad()\n",
    "        loss.backward()\n",
    "        optimizer.step()\n",
    "\n",
    "        if(batch % 100 == 0):\n",
    "            loss, current = loss.item(), (batch + 1) * len(X)\n",
    "            print(f\"loss: {loss:>7f}  [{current:>5d}/{size:>5d}]\")\n",
    "\n",
    "def test(dataloader, model, loss_fn):\n",
    "    size = len(dataloader.dataset)\n",
    "    num_batches = len(dataloader)\n",
    "    model.eval()\n",
    "    test_loss, correct = 0, 0\n",
    "    with torch.no_grad():\n",
    "        for X, y in dataloader:\n",
    "            X, y = X.to(device), y.to(device)\n",
    "            pred = model(X)\n",
    "            test_loss += loss_fn(pred, y).item()\n",
    "            correct += (pred.argmax(1) == y).type(torch.float).sum().item()\n",
    "    test_loss /= num_batches\n",
    "    correct /= size\n",
    "    print(f\"Test Error: \\n Accuracy: {(100*correct):>0.1f}%, Avg loss: {test_loss:>8f} \\n\")\n",
    "\n",
    "\n",
    "\n"
   ],
   "metadata": {
    "collapsed": false
   }
  },
  {
   "cell_type": "code",
   "execution_count": 15,
   "outputs": [
    {
     "name": "stdout",
     "output_type": "stream",
     "text": [
      "Epoch 1\n",
      "-------------------------------\n",
      "loss: 2.305907  [   64/60000]\n",
      "loss: 2.294276  [ 6464/60000]\n",
      "loss: 2.266275  [12864/60000]\n",
      "loss: 2.260387  [19264/60000]\n",
      "loss: 2.251948  [25664/60000]\n",
      "loss: 2.214518  [32064/60000]\n",
      "loss: 2.231687  [38464/60000]\n",
      "loss: 2.189763  [44864/60000]\n",
      "loss: 2.177109  [51264/60000]\n",
      "loss: 2.166358  [57664/60000]\n",
      "Test Error: \n",
      " Accuracy: 38.2%, Avg loss: 2.147210 \n",
      "\n",
      "Epoch 2\n",
      "-------------------------------\n",
      "loss: 2.156592  [   64/60000]\n",
      "loss: 2.153106  [ 6464/60000]\n",
      "loss: 2.081527  [12864/60000]\n",
      "loss: 2.102928  [19264/60000]\n",
      "loss: 2.059895  [25664/60000]\n",
      "loss: 1.992649  [32064/60000]\n",
      "loss: 2.032161  [38464/60000]\n",
      "loss: 1.940350  [44864/60000]\n",
      "loss: 1.938021  [51264/60000]\n",
      "loss: 1.898036  [57664/60000]\n",
      "Test Error: \n",
      " Accuracy: 55.0%, Avg loss: 1.875042 \n",
      "\n",
      "Epoch 3\n",
      "-------------------------------\n",
      "loss: 1.902006  [   64/60000]\n",
      "loss: 1.885900  [ 6464/60000]\n",
      "loss: 1.748400  [12864/60000]\n",
      "loss: 1.803808  [19264/60000]\n",
      "loss: 1.697215  [25664/60000]\n",
      "loss: 1.644708  [32064/60000]\n",
      "loss: 1.680652  [38464/60000]\n",
      "loss: 1.569203  [44864/60000]\n",
      "loss: 1.598656  [51264/60000]\n",
      "loss: 1.517436  [57664/60000]\n",
      "Test Error: \n",
      " Accuracy: 60.6%, Avg loss: 1.514372 \n",
      "\n",
      "Epoch 4\n",
      "-------------------------------\n",
      "loss: 1.575737  [   64/60000]\n",
      "loss: 1.552711  [ 6464/60000]\n",
      "loss: 1.384582  [12864/60000]\n",
      "loss: 1.470185  [19264/60000]\n",
      "loss: 1.349486  [25664/60000]\n",
      "loss: 1.341860  [32064/60000]\n",
      "loss: 1.365940  [38464/60000]\n",
      "loss: 1.284712  [44864/60000]\n",
      "loss: 1.324914  [51264/60000]\n",
      "loss: 1.236143  [57664/60000]\n",
      "Test Error: \n",
      " Accuracy: 63.2%, Avg loss: 1.252336 \n",
      "\n",
      "Epoch 5\n",
      "-------------------------------\n",
      "loss: 1.328460  [   64/60000]\n",
      "loss: 1.318999  [ 6464/60000]\n",
      "loss: 1.138463  [12864/60000]\n",
      "loss: 1.250021  [19264/60000]\n",
      "loss: 1.124718  [25664/60000]\n",
      "loss: 1.147331  [32064/60000]\n",
      "loss: 1.174568  [38464/60000]\n",
      "loss: 1.110344  [44864/60000]\n",
      "loss: 1.151145  [51264/60000]\n",
      "loss: 1.076915  [57664/60000]\n",
      "Test Error: \n",
      " Accuracy: 64.4%, Avg loss: 1.090164 \n",
      "\n",
      "Done!\n"
     ]
    }
   ],
   "source": [
    "epochs = 5\n",
    "for t in range(epochs):\n",
    "    print(f\"Epoch {t+1}\\n-------------------------------\")\n",
    "    train(train_dataloader, model, loss_fn, optimizer)\n",
    "    test(test_dataloader, model, loss_fn)\n",
    "print(\"Done!\")"
   ],
   "metadata": {
    "collapsed": false
   }
  },
  {
   "cell_type": "code",
   "execution_count": 16,
   "outputs": [
    {
     "name": "stdout",
     "output_type": "stream",
     "text": [
      "saved the pytorch model state to model.pth\n"
     ]
    }
   ],
   "source": [
    "# save model\n",
    "torch.save(model.state_dict() , \"model.pth\")\n",
    "print(\"saved the pytorch model state to model.pth\")"
   ],
   "metadata": {
    "collapsed": false
   }
  },
  {
   "cell_type": "code",
   "execution_count": 17,
   "outputs": [
    {
     "data": {
      "text/plain": "<All keys matched successfully>"
     },
     "execution_count": 17,
     "metadata": {},
     "output_type": "execute_result"
    }
   ],
   "source": [
    "# load model\n",
    "model = NeuralNetwork()\n",
    "model.load_state_dict(torch.load(\"model.pth\"))"
   ],
   "metadata": {
    "collapsed": false
   }
  },
  {
   "cell_type": "code",
   "execution_count": null,
   "outputs": [],
   "source": [],
   "metadata": {
    "collapsed": false
   }
  }
 ],
 "metadata": {
  "kernelspec": {
   "display_name": "Python 3",
   "language": "python",
   "name": "python3"
  },
  "language_info": {
   "codemirror_mode": {
    "name": "ipython",
    "version": 2
   },
   "file_extension": ".py",
   "mimetype": "text/x-python",
   "name": "python",
   "nbconvert_exporter": "python",
   "pygments_lexer": "ipython2",
   "version": "2.7.6"
  }
 },
 "nbformat": 4,
 "nbformat_minor": 0
}
